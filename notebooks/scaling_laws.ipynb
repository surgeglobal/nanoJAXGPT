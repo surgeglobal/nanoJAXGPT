{
 "cells": [
  {
   "attachments": {},
   "cell_type": "markdown",
   "metadata": {},
   "source": [
    "Reproducing some scaling laws results from [Chinchilla](https://arxiv.org/pdf/2203.15556.pdf). Can't get the numbers to match exactly, but can still be used as a rough guide to help determine compute-optimal models. Also contains related utilities for calculating flops and param counts."
   ]
  },
  {
   "cell_type": "code",
   "execution_count": 1,
   "metadata": {},
   "source": [
    "import matplotlib.pyplot as plt\n",
    "import numpy as np\n",
    "import pandas as pd\n",
    "%matplotlib inline"
   ],
   "outputs": []
  },
  {
   "attachments": {},
   "cell_type": "markdown",
   "metadata": {},
   "source": [
    "## params\n",
    "\n",
    "First some parameter calculations:"
   ]
  },
  {
   "cell_type": "code",
   "execution_count": 2,
   "metadata": {},
   "source": [
    "def gpt_params(seq_len, vocab_size, d_model, num_heads, num_layers):\n",
    "    \"\"\" Given GPT config calculate total number of parameters \"\"\"\n",
    "    ffw_size = 4*d_model # in GPT the number of intermediate features is always 4*d_model\n",
    "    # token and position embeddings\n",
    "    embeddings = d_model * vocab_size + d_model * seq_len\n",
    "    # transformer blocks\n",
    "    attention = 3*d_model**2 + 3*d_model # weights and biases\n",
    "    attproj = d_model**2 + d_model\n",
    "    ffw = d_model*(ffw_size) + ffw_size\n",
    "    ffwproj = ffw_size*d_model + d_model\n",
    "    layernorms = 2*2*d_model\n",
    "    # dense\n",
    "    ln_f = 2*d_model\n",
    "    dense = d_model*vocab_size # note: no bias here\n",
    "    # note: embeddings are not included in the param count!\n",
    "    total_params = num_layers*(attention + attproj + ffw + ffwproj + layernorms) + ln_f + dense\n",
    "    return total_params\n",
    "\n",
    "gpt2 = dict(seq_len = 1024, vocab_size = 50257, d_model = 768, num_heads = 12, num_layers = 12)\n",
    "gpt_params(**gpt2)/1e6"
   ],
   "outputs": []
  },
  {
   "attachments": {},
   "cell_type": "markdown",
   "metadata": {},
   "source": [
    "OpenAI reports gpt2 (small) as having 124M params, so this is a match. Also, loading the OpenAI weights into nanoGPT and then calling `model.parameters()` exactly matches the above number and verifies the implementation. Now Chinchilla parameters:"
   ]
  },
  {
   "cell_type": "code",
   "execution_count": 3,
   "metadata": {},
   "source": [
    "def chinchilla_params(seq_len, vocab_size, d_model, num_heads, num_layers, ffw_size):\n",
    "    \"\"\" Parameters in the Chinchilla models. Unlike GPT they use relative positional embeddings. \"\"\"\n",
    "    # token embeddings only\n",
    "    embeddings = d_model * vocab_size\n",
    "    # transformer blocks\n",
    "    attention = 3*d_model**2 + 3*d_model # weights and biases\n",
    "    relative_pos = d_model**2 + 2*d_model # relative keys, content bias, relative bias\n",
    "    attproj = d_model**2 + d_model\n",
    "    ffw = d_model*ffw_size + ffw_size\n",
    "    ffwproj = ffw_size*d_model + d_model\n",
    "    layernorms = 2*2*d_model\n",
    "    # dense\n",
    "    ln_f = 2*d_model\n",
    "    dense = d_model*vocab_size # note: no bias here\n",
    "    # note: embeddings are not included in the param count!\n",
    "    total_params = num_layers*(attention + relative_pos + attproj + ffw + ffwproj + layernorms) + ln_f + dense\n",
    "    return total_params\n",
    "\n"
   ],
   "outputs": []
  },
  {
   "cell_type": "code",
   "execution_count": 4,
   "metadata": {},
   "source": [
    "# Load in all the 50 Chinchilla models on the last page of the paper\n",
    "import json\n",
    "chinchilla_models_txt = '[[44000000.0, 512, 2048, 64, 8, 8], [57000000.0, 576, 2304, 64, 9, 9], [74000000.0, 640, 2560, 64, 10, 10], [90000000.0, 640, 2560, 64, 10, 13], [106000000.0, 640, 2560, 64, 10, 16], [117000000.0, 768, 3072, 64, 12, 12], [140000000.0, 768, 3072, 64, 12, 15], [163000000.0, 768, 3072, 64, 12, 18], [175000000.0, 896, 3584, 64, 14, 14], [196000000.0, 896, 3584, 64, 14, 16], [217000000.0, 896, 3584, 64, 14, 18], [251000000.0, 1024, 4096, 64, 16, 16], [278000000.0, 1024, 4096, 64, 16, 18], [306000000.0, 1024, 4096, 64, 16, 20], [425000000.0, 1280, 5120, 128, 10, 18], [489000000.0, 1280, 5120, 128, 10, 21], [509000000.0, 1408, 5632, 128, 11, 18], [552000000.0, 1280, 5120, 128, 10, 24], [587000000.0, 1408, 5632, 128, 11, 21], [632000000.0, 1536, 6144, 128, 12, 19], [664000000.0, 1408, 5632, 128, 11, 24], [724000000.0, 1536, 6144, 128, 12, 22], [816000000.0, 1536, 6144, 128, 12, 25], [893000000.0, 1792, 7168, 128, 14, 20], [1018000000.0, 1792, 7168, 128, 14, 23], [1143000000.0, 1792, 7168, 128, 14, 26], [1266000000.0, 2048, 8192, 128, 16, 22], [1424000000.0, 2176, 8704, 128, 17, 22], [1429000000.0, 2048, 8192, 128, 16, 25], [1593000000.0, 2048, 8192, 128, 16, 28], [1609000000.0, 2176, 8704, 128, 17, 25], [1731000000.0, 2304, 9216, 128, 18, 24], [1794000000.0, 2176, 8704, 128, 17, 28], [2007000000.0, 2304, 9216, 128, 18, 28], [2283000000.0, 2304, 9216, 128, 18, 32], [2298000000.0, 2560, 10240, 128, 20, 26], [2639000000.0, 2560, 10240, 128, 20, 30], [2980000000.0, 2560, 10240, 128, 20, 34], [3530000000.0, 2688, 10752, 128, 22, 36], [3802000000.0, 2816, 11264, 128, 22, 36], [4084000000.0, 2944, 11776, 128, 22, 36], [4516000000.0, 3072, 12288, 128, 24, 36], [6796000000.0, 3584, 14336, 128, 28, 40], [9293000000.0, 4096, 16384, 128, 32, 42], [11452000000.0, 4352, 17408, 128, 32, 47], [12295000000.0, 4608, 18432, 128, 36, 44], [12569000000.0, 4608, 18432, 128, 32, 47], [13735000000.0, 4864, 19456, 128, 32, 47], [14940000000.0, 4992, 19968, 128, 32, 49], [16183000000.0, 5120, 20480, 128, 40, 47]]'\n",
    "chilchilla_models = json.loads(chinchilla_models_txt) # all 50 models\n",
    "chilchilla_models[0] # tuples of params, d_model, ffw_size, kv_size, n_heads, n_layers from Table A9"
   ],
   "outputs": []
  },
  {
   "cell_type": "code",
   "execution_count": 5,
   "metadata": {},
   "source": [
    "for m in chilchilla_models[-5:]: # only print last 5 models of the table\n",
    "    p, d, f, k, h, l = m\n",
    "    nparams = chinchilla_params(seq_len = 1024, vocab_size = 32000, d_model = d, num_heads = h, num_layers = l, ffw_size=f)\n",
    "    print(f\"our estimated params: {nparams/1e6:.4f}M, chinchilla params: {p/1e6:.4f}M, d_model: {d}, n_heads: {h}, n_layers: {l}\")"
   ],
   "outputs": []
  },
  {
   "attachments": {},
   "cell_type": "markdown",
   "metadata": {},
   "source": [
    "We are almost able to reproduce the parameter counts for the Chinchilla models.\n",
    "\n",
    "Now turning to FLOPs:"
   ]
  },
  {
   "attachments": {},
   "cell_type": "markdown",
   "metadata": {},
   "source": [
    "## flops"
   ]
  },
  {
   "cell_type": "code",
   "execution_count": 6,
   "metadata": {},
   "source": [
    "def chinchilla_flops(seq_len, vocab_size, d_model, num_heads, num_layers, ffw_size):\n",
    "    \"\"\" \n",
    "    Calculate total number of FLOPs, see Chinchilla \n",
    "    paper Appendix F as reference: https://arxiv.org/pdf/2203.15556.pdf\n",
    "    \"\"\" \n",
    "    key_size = d_model // num_heads\n",
    "\n",
    "    # embeddings\n",
    "    embeddings = 2 * seq_len * vocab_size * d_model\n",
    "\n",
    "    # attention\n",
    "    # key, query, value projections\n",
    "    attention = 2 * 3 * seq_len * d_model * (key_size * num_heads)\n",
    "    # key @ query logits\n",
    "    attlogits = 2 * seq_len * seq_len * (key_size * num_heads)\n",
    "    # softmax\n",
    "    attsoftmax = 3 * num_heads * seq_len * seq_len # 3* is for subtract (max), exp, divide (?)\n",
    "    # softmax @ value reductions\n",
    "    attvalue = 2 * seq_len * seq_len * (key_size * num_heads)\n",
    "    # final linear\n",
    "    attlinear = 2 * seq_len * (key_size * num_heads) * d_model\n",
    "    att = attention + attlogits + attsoftmax + attvalue + attlinear\n",
    "    # feed forward\n",
    "    dense = 2 * seq_len * (d_model * ffw_size + d_model * ffw_size)\n",
    "\n",
    "    # logits\n",
    "    logits = 2 * seq_len * d_model * vocab_size\n",
    "    \n",
    "    # this is what you'd expect:\n",
    "    # forward_flops = embeddings + num_layers * (att + dense) + logits\n",
    "    # but:\n",
    "    # per author correspondence apparently there is typo in the paper,\n",
    "    # they do not count embeddings and logits to repro table 4. So instead:\n",
    "    forward_flops = num_layers * (att + dense)\n",
    "    backward_flops = 2 * forward_flops # as in Kaplan et al. 2020\n",
    "    total_flops = forward_flops + backward_flops\n",
    "\n",
    "    return total_flops\n"
   ],
   "outputs": []
  },
  {
   "cell_type": "code",
   "execution_count": 7,
   "metadata": {},
   "source": [
    "# Now try reproduce Table A4 from Chinchilla paper Appendix, \n",
    "# comparing accurate flops above to approximate flops F = 6*N*D\n",
    "# note Chinchilla mentions using vocab_size = 32K\n",
    "\n",
    "chilchilla_models_table4 = [\n",
    "  [10, 640, 2560, 10, 64],\n",
    "  [20, 1024, 4096, 16, 64],\n",
    "  [24, 1280, 5120, 10, 128 ],\n",
    "  [26, 1792, 7168, 14, 128 ],\n",
    "  [28, 2048, 8192, 16, 128],\n",
    "  [40,  3584, 14336, 28, 128]\n",
    "]\n",
    "\n",
    "rows = []\n",
    "for num_layers, d_model, ffw_size, num_heads, _ in chilchilla_models_table4:\n",
    "\n",
    "    args = dict(seq_len = 2048, vocab_size = 32000, d_model = d_model, \n",
    "                num_heads = num_heads, num_layers = num_layers, ffw_size=ffw_size)\n",
    "\n",
    "    D = args['seq_len'] # dataset size (cancels anyway, for the purposes of the ratio calculation below)\n",
    "    N = chinchilla_params(**args)\n",
    "    F = chinchilla_flops(**args)\n",
    "\n",
    "    approx_flops = 6*D*N # approximate flops\n",
    "    chinch_flops = F * (float(D) / args['seq_len']) # exact flops according to Chinchilla paper calculations\n",
    "\n",
    "    # print('---')\n",
    "    # print(f\"params: {N/1e6:.2f}M\")\n",
    "    # print(f\"approx flops: {approx_flops/1e9:.2f}B\")\n",
    "    # print(f\"chinchilla flops: {chinch_flops/1e9:.2f}B\")\n",
    "    # print(f\"ratio (chinchilla / approx): {chinch_flops / approx_flops:.2f}\")\n",
    "\n",
    "    # first copy all keyvalues from args into out\n",
    "    out = {k:v for k,v in args.items()}\n",
    "    # then add the calculated values\n",
    "    out['N'] = N\n",
    "    out['F'] = F\n",
    "    out['approx_flops'] = approx_flops\n",
    "    out['chinch_flops'] = chinch_flops\n",
    "    out['ratio'] = chinch_flops / approx_flops\n",
    "    rows.append(out)\n",
    "\n",
    "# make a pandas dataframe from rows\n",
    "df = pd.DataFrame(rows)\n",
    "df"
   ],
   "outputs": []
  },
  {
   "attachments": {},
   "cell_type": "markdown",
   "metadata": {},
   "source": [
    "Pretty good match! Except the param counts are still not perfectly accurate."
   ]
  },
  {
   "attachments": {},
   "cell_type": "markdown",
   "metadata": {},
   "source": [
    "## Scaling Laws: Approach 3\n",
    "\n",
    "In their \"Aproach 3\", Chinchilla paper fits a function L(N,D) to approximate the final loss gives the model size and the data size. Here is the final fit:"
   ]
  },
  {
   "cell_type": "code",
   "execution_count": 8,
   "metadata": {},
   "source": [
    "def L(N, D):\n",
    "    \"\"\" \n",
    "    Approximates loss given N parameters and D dataset size (in tokens),\n",
    "    per Chinchilla paper.\n",
    "    \"\"\"\n",
    "    E = 1.69 # entropy of natural language, limit of infinite model on infinite data\n",
    "    A = 406.4\n",
    "    B = 410.7\n",
    "    alpha = 0.34\n",
    "    beta = 0.28\n",
    "    return A / (N ** alpha) + B / (D ** beta) + E\n",
    "\n",
    "ns = 10 ** np.arange(7, 11, step=2**-4) # model sizes from 10M to 100B\n",
    "ds = 10 ** np.arange(9, 12, step=2**-4) # dataset sizes from 1B to 1T\n",
    "plt.figure(figsize=(12, 5))\n",
    "plt.subplot(121)\n",
    "# create a 2D countour plot of loss L as a function of model size and dataset size in ns,ds\n",
    "loss2d = np.log10(np.array([[L(n, d) for d in ds] for n in ns]))\n",
    "plt.imshow(loss2d, extent=[9, 12, 7, 11], origin='lower', alpha=0.5)\n",
    "plt.contour(loss2d, levels=30, extent=[9, 12, 7, 11], origin='lower')\n",
    "plt.xlabel('log10(dataset size)')\n",
    "plt.ylabel('log10(model size)')\n",
    "plt.title('loss')\n",
    "plt.colorbar()\n",
    "# plot the compute for each point, which is a deterministic function: flops = 6*N*D\n",
    "plt.subplot(122)\n",
    "compute2d = np.log10(np.array([[6*n*d for d in ds] for n in ns]))\n",
    "plt.imshow(compute2d, extent=[9, 12, 7, 11], origin='lower', alpha=0.5)\n",
    "plt.contour(compute2d, levels=30, extent=[9, 12, 7, 11], origin='lower')\n",
    "plt.xlabel('log10(dataset size)')\n",
    "plt.ylabel('log10(model size)')\n",
    "plt.title('log10 flops')\n",
    "plt.colorbar()"
   ],
   "outputs": []
  },
  {
   "attachments": {},
   "cell_type": "markdown",
   "metadata": {},
   "source": [
    "Ok so given any N,D we can estimate both: 1) the loss, and 2) the total flops. Now we want to solve the following problem: Given a specific budget of flops C, find: N_opt, D_opt = argmin_{FLOPs(N,D) = C} L(N, D). i.e. how big of a model should we train and for how many tokens?"
   ]
  },
  {
   "cell_type": "code",
   "execution_count": 9,
   "metadata": {},
   "source": [
    "c = 2.21e19 # target compute budget (usually know this because we know how many GPU for how long go brrr)\n",
    "# (I got this flop number from row 1 of Table A3)\n",
    "# sweep model sizes from 10M to 100B\n",
    "ns = 10 ** np.arange(7, 11, step=2**-4)\n",
    "# using C = 6*N*D, solve for D that maintains the compute budget c\n",
    "ds = c / (6 * ns)\n",
    "# evaluate the loss in each case\n",
    "losses = L(ns, ds)\n",
    "# find the argmin\n",
    "best = np.argmin(losses)\n",
    "print(f\"best model size: {ns[best]/1e6:.2f}M\")\n",
    "print(f\"best dataset size: {ds[best]/1e9:.2f}B\")\n",
    "# plot the loss\n",
    "plt.figure(figsize=(3,3))\n",
    "plt.plot(ns, losses)\n",
    "plt.xscale('log')\n",
    "# plot a vertical bar at the best model size\n",
    "plt.axvline(ns[best], color='red')\n",
    "plt.xlabel('model size')\n",
    "plt.ylabel('loss')"
   ],
   "outputs": []
  },
  {
   "attachments": {},
   "cell_type": "markdown",
   "metadata": {},
   "source": [
    "In the plot above, basically the models on the left of best are too small and trained for too long. The models on the right of best are way too large and trained for too little. The model at the red line is just right.\n",
    "\n",
    "Now, the Chinchilla paper says that best model size for this flop budget is 400M params and 9.2B tokens (instead of 316M params and 11.65B tokens) so there is some unresolved disagreement here too..."
   ]
  },
  {
   "cell_type": "code",
   "execution_count": 10,
   "metadata": {},
   "source": [
    "# Calculate the Chinchilla optimal models for a range of compute budgets\n",
    "\n",
    "# sweep over compute budgets from 1e17 to 1e26\n",
    "cs = 10 ** np.arange(17, 26, step=2**-8)\n",
    "models = []\n",
    "for c in cs:\n",
    "    # sweep over model sizes\n",
    "    ns = 10 ** np.arange(7, 14, step=2**-8)\n",
    "    # the dataset sizes that would maintain the given compute budget\n",
    "    ds = c / (6 * ns)\n",
    "    # losses at each point\n",
    "    losses = L(ns, ds)\n",
    "    # n,d for the best model\n",
    "    best = np.argmin(losses)\n",
    "    models.append((c, ns[best], ds[best])) # c, n, d tuple log\n",
    "\n",
    "len(models)"
   ],
   "outputs": []
  },
  {
   "cell_type": "code",
   "execution_count": 11,
   "metadata": {},
   "source": [
    "query_model_size = 400e6\n",
    "ns = np.array([n for c, n, d in models])\n",
    "ds = np.array([d for c, n, d in models])\n",
    "# find the index of the closest model size in ns\n",
    "ix = np.argmin(np.abs(ns - query_model_size))\n",
    "# retrieve the corresponding params, flops, and data size\n",
    "print(\"closest model found:\")\n",
    "print(f\"model size: {ns[ix]/1e6:.2f}M\")\n",
    "print(f\"dataset size: {ds[ix]/1e9:.2f}B\")\n",
    "print(f\"flops: {6*ns[ix]*ds[ix]:e}\")\n",
    "print(f\"loss: {L(ns[ix], ds[ix]):.2f}\")"
   ],
   "outputs": []
  },
  {
   "attachments": {},
   "cell_type": "markdown",
   "metadata": {},
   "source": [
    "This should have come out as 9.2B according to Table A3 in Chinchilla paper, per my understanding of it."
   ]
  },
  {
   "attachments": {},
   "cell_type": "markdown",
   "metadata": {},
   "source": [
    "## Scaling Laws: Approach 2\n",
    "\n",
    "Approach 2 is probably my favorite one because it fixes a flop budget and runs a number of model/dataset sizes, measures the loss, fits a parabolla, and gets the minimum. So it's a fairly direct measurement of what we're after. The best way to then calculate the compute-optimal number of tokens for any given model size, as an example, is via simple interpolation."
   ]
  },
  {
   "cell_type": "code",
   "execution_count": 12,
   "metadata": {},
   "source": [
    "# Approach 1 numbers\n",
    "# # parameters, tokens\n",
    "# raw = [\n",
    "#     [400e6, 8e9],\n",
    "#     [1e9, 20.2e9],\n",
    "#     [10e9, 205.1e9],\n",
    "#     [67e9, 1.5e12],\n",
    "#     [175e9, 3.7e12],\n",
    "#     [280e9, 5.9e12],\n",
    "#     [520e9, 11e12],\n",
    "#     [1e12, 21.2e12],\n",
    "#     [10e12, 216.2e12],\n",
    "# ]\n",
    "\n",
    "# Approach 2 numbers\n",
    "# parameters, tokens\n",
    "raw = [\n",
    "    [400e6, 7.7e9],\n",
    "    [1e9, 20.0e9],\n",
    "    [10e9, 219.5e9],\n",
    "    [67e9, 1.7e12],\n",
    "    [175e9, 4.3e12],\n",
    "    [280e9, 7.1e12],\n",
    "    [520e9, 13.4e12],\n",
    "    [1e12, 26.5e12],\n",
    "    [10e12, 292.0e12],\n",
    "]\n"
   ],
   "outputs": []
  },
  {
   "cell_type": "code",
   "execution_count": 13,
   "metadata": {},
   "source": [
    "# fit a line by linear regression to the raw data\n",
    "import numpy as np\n",
    "x = np.array([np.log10(x[0]) for x in raw])\n",
    "y = np.array([np.log10(x[1]) for x in raw])\n",
    "A = np.vstack([x, np.ones(len(x))]).T\n",
    "m, c = np.linalg.lstsq(A, y, rcond=None)[0]\n",
    "print(f\"y = {m}x + {c}\")"
   ],
   "outputs": []
  },
  {
   "cell_type": "code",
   "execution_count": 14,
   "metadata": {},
   "source": [
    "plt.figure(figsize=(3, 3))\n",
    "# plot the line\n",
    "plt.plot([q[0] for q in raw], [10**(m*np.log10(q[0]) + c) for q in raw], label='linear regression', color='r')\n",
    "# plot the raw data\n",
    "plt.scatter([q[0] for q in raw], [q[1] for q in raw], label='raw data')\n",
    "plt.xscale('log')\n",
    "plt.yscale('log')\n",
    "plt.xlabel('parameters')\n",
    "plt.ylabel('tokens')\n",
    "plt.title('compute optimal models')\n",
    "plt.grid()\n"
   ],
   "outputs": []
  },
  {
   "cell_type": "code",
   "execution_count": 15,
   "metadata": {},
   "source": [
    "xquery = 124e6 # query model size here (e.g. GPT-2 small is 124M)\n",
    "yquery = 10**(m*np.log10(xquery) + c)\n",
    "print(f\"predicted parameters for {xquery:e} tokens: {yquery:e}\")"
   ],
   "outputs": []
  }
 ],
 "metadata": {
  "kernelspec": {
   "display_name": "pytorch2",
   "language": "python",
   "name": "python3"
  },
  "language_info": {
   "codemirror_mode": {
    "name": "ipython",
    "version": 3
   },
   "file_extension": ".py",
   "mimetype": "text/x-python",
   "name": "python",
   "nbconvert_exporter": "python",
   "pygments_lexer": "ipython3",
   "version": "3.10.8"
  },
  "orig_nbformat": 4,
  "vscode": {
   "interpreter": {
    "hash": "7f5833218766b48e6e35e4452ee875aac0e2188d05bbe5298f2c62b79f08b222"
   }
  }
 },
 "nbformat": 4,
 "nbformat_minor": 2
}
